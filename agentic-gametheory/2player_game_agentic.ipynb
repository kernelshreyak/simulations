{
 "cells": [
  {
   "cell_type": "code",
   "execution_count": 5,
   "metadata": {},
   "outputs": [
    {
     "data": {
      "image/png": "[encoded data removed]",
      "text/plain": [
       "<IPython.core.display.Image object>"
      ]
     },
     "metadata": {},
     "output_type": "display_data"
    }
   ],
   "source": [
    "from typing import Annotated\n",
    "from typing_extensions import TypedDict\n",
    "\n",
    "from langgraph.graph import StateGraph, START, END\n",
    "from langgraph.graph.message import add_messages\n",
    "\n",
    "from dotenv import load_dotenv\n",
    "from langchain_openai import ChatOpenAI\n",
    "\n",
    "load_dotenv()\n",
    "\n",
    "class State(TypedDict):\n",
    "    # Messages have the type \"list\". The `add_messages` function\n",
    "    # in the annotation defines how this state key should be updated\n",
    "    # (in this case, it appends messages to the list, rather than overwriting them)\n",
    "    messages: Annotated[list, add_messages]\n",
    "\n",
    "graph_builder = StateGraph(State)\n",
    "\n",
    "\n",
    "llm = ChatOpenAI(model=\"gpt-4.1-mini\")\n",
    "\n",
    "# llm.with_structured_output()\n",
    "\n",
    "def agent1(state: State):\n",
    "    return {\"messages\": [llm.invoke(state[\"messages\"])]}\n",
    "\n",
    "def agent2(state: State):\n",
    "    return {\"messages\": [llm.invoke(state[\"messages\"])]}\n",
    "\n",
    "graph_builder.add_node(\"agent1\", agent1)\n",
    "graph_builder.add_edge(START, \"agent1\")\n",
    "graph_builder.add_edge(\"agent1\", END)\n",
    "graph = graph_builder.compile()\n",
    "\n",
    "from IPython.display import Image, display\n",
    "\n",
    "try:\n",
    "    display(Image(graph.get_graph().draw_mermaid_png()))\n",
    "except Exception:\n",
    "    # This requires some extra dependencies and is optional\n",
    "    pass"
   ]
  },
  {
   "cell_type": "code",
   "execution_count": 6,
   "metadata": {},
   "outputs": [],
   "source": [
    "def stream_graph_updates(user_input: str):\n",
    "    for event in graph.stream({\"messages\": [{\"role\": \"user\", \"content\": user_input}]}):\n",
    "        for value in event.values():\n",
    "            print(\"Assistant:\", value[\"messages\"][-1].content)\n"
   ]
  },
  {
   "cell_type": "code",
   "execution_count": 7,
   "metadata": {},
   "outputs": [
    {
     "name": "stdout",
     "output_type": "stream",
     "text": [
      "Assistant: Given the quadratic equation:\n",
      "\n",
      "\\[\n",
      "x^2 - 2x + 5 = 0\n",
      "\\]\n",
      "\n",
      "We can solve it using the quadratic formula:\n",
      "\n",
      "\\[\n",
      "x = \\frac{-b \\pm \\sqrt{b^2 - 4ac}}{2a}\n",
      "\\]\n",
      "\n",
      "Here, \\( a = 1 \\), \\( b = -2 \\), and \\( c = 5 \\).\n",
      "\n",
      "1. Calculate the discriminant:\n",
      "\n",
      "\\[\n",
      "\\Delta = b^2 - 4ac = (-2)^2 - 4 \\times 1 \\times 5 = 4 - 20 = -16\n",
      "\\]\n",
      "\n",
      "Since the discriminant is negative, the solutions will be complex.\n",
      "\n",
      "2. Find the roots:\n",
      "\n",
      "\\[\n",
      "x = \\frac{-(-2) \\pm \\sqrt{-16}}{2 \\times 1} = \\frac{2 \\pm \\sqrt{-16}}{2} = \\frac{2 \\pm 4i}{2} = 1 \\pm 2i\n",
      "\\]\n",
      "\n",
      "**Answer:**\n",
      "\n",
      "\\[\n",
      "x = 1 + 2i \\quad \\text{or} \\quad x = 1 - 2i\n",
      "\\]\n"
     ]
    }
   ],
   "source": [
    "user_input = \"solve quadratic equation x^2-2x+5=0\"\n",
    "stream_graph_updates(user_input)"
   ]
  },
  {
   "cell_type": "code",
   "execution_count": null,
   "metadata": {},
   "outputs": [],
   "source": []
  }
 ],
 "metadata": {
  "kernelspec": {
   "display_name": "Python 3 (ipykernel)",
   "language": "python",
   "name": "python3"
  },
  "language_info": {
   "codemirror_mode": {
    "name": "ipython",
    "version": 3
   },
   "file_extension": ".py",
   "mimetype": "text/x-python",
   "name": "python",
   "nbconvert_exporter": "python",
   "pygments_lexer": "ipython3",
   "version": "3.12.3"
  }
 },
 "nbformat": 4,
 "nbformat_minor": 4
}
